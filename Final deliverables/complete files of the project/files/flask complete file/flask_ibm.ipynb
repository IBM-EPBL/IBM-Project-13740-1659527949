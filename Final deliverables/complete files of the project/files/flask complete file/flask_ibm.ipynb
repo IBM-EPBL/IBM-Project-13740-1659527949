{
  "cells": [
    {
      "cell_type": "code",
      "execution_count": null,
      "metadata": {
        "colab": {
          "base_uri": "https://localhost:8080/"
        },
        "id": "1m7aSjNMnPxm",
        "outputId": "b01c5907-d0ce-4733-b270-644e2a21eb0d"
      },
      "outputs": [
        {
          "output_type": "stream",
          "name": "stdout",
          "text": [
            "Looking in indexes: https://pypi.org/simple, https://us-python.pkg.dev/colab-wheels/public/simple/\n",
            "Collecting ibm_db==2.0.8a\n",
            "  Downloading ibm_db-2.0.8a.tar.gz (689 kB)\n",
            "\u001b[K     |████████████████████████████████| 689 kB 25.8 MB/s \n",
            "\u001b[?25hBuilding wheels for collected packages: ibm-db\n",
            "  Building wheel for ibm-db (setup.py) ... \u001b[?25l\u001b[?25hdone\n",
            "  Created wheel for ibm-db: filename=ibm_db-2.0.8a0-cp37-cp37m-linux_x86_64.whl size=41343728 sha256=58f516f96d3debb249d229d42a2580ba1874f098682e8f403dbb3a001f67b0ab\n",
            "  Stored in directory: /root/.cache/pip/wheels/b7/30/6e/c3a4ed63e5a80f90d3456943e4d5c5f31efc5a5c4249038d6f\n",
            "Successfully built ibm-db\n",
            "Installing collected packages: ibm-db\n",
            "Successfully installed ibm-db-2.0.8a0\n",
            "Looking in indexes: https://pypi.org/simple, https://us-python.pkg.dev/colab-wheels/public/simple/\n",
            "Collecting flask-ngrok\n",
            "  Downloading flask_ngrok-0.0.25-py3-none-any.whl (3.1 kB)\n",
            "Requirement already satisfied: Flask>=0.8 in /usr/local/lib/python3.7/dist-packages (from flask-ngrok) (1.1.4)\n",
            "Requirement already satisfied: requests in /usr/local/lib/python3.7/dist-packages (from flask-ngrok) (2.23.0)\n",
            "Requirement already satisfied: click<8.0,>=5.1 in /usr/local/lib/python3.7/dist-packages (from Flask>=0.8->flask-ngrok) (7.1.2)\n",
            "Requirement already satisfied: itsdangerous<2.0,>=0.24 in /usr/local/lib/python3.7/dist-packages (from Flask>=0.8->flask-ngrok) (1.1.0)\n",
            "Requirement already satisfied: Jinja2<3.0,>=2.10.1 in /usr/local/lib/python3.7/dist-packages (from Flask>=0.8->flask-ngrok) (2.11.3)\n",
            "Requirement already satisfied: Werkzeug<2.0,>=0.15 in /usr/local/lib/python3.7/dist-packages (from Flask>=0.8->flask-ngrok) (1.0.1)\n",
            "Requirement already satisfied: MarkupSafe>=0.23 in /usr/local/lib/python3.7/dist-packages (from Jinja2<3.0,>=2.10.1->Flask>=0.8->flask-ngrok) (2.0.1)\n",
            "Requirement already satisfied: urllib3!=1.25.0,!=1.25.1,<1.26,>=1.21.1 in /usr/local/lib/python3.7/dist-packages (from requests->flask-ngrok) (1.24.3)\n",
            "Requirement already satisfied: idna<3,>=2.5 in /usr/local/lib/python3.7/dist-packages (from requests->flask-ngrok) (2.10)\n",
            "Requirement already satisfied: chardet<4,>=3.0.2 in /usr/local/lib/python3.7/dist-packages (from requests->flask-ngrok) (3.0.4)\n",
            "Requirement already satisfied: certifi>=2017.4.17 in /usr/local/lib/python3.7/dist-packages (from requests->flask-ngrok) (2022.9.24)\n",
            "Installing collected packages: flask-ngrok\n",
            "Successfully installed flask-ngrok-0.0.25\n",
            "Looking in indexes: https://pypi.org/simple, https://us-python.pkg.dev/colab-wheels/public/simple/\n",
            "Collecting flask-bootstrap\n",
            "  Downloading Flask-Bootstrap-3.3.7.1.tar.gz (456 kB)\n",
            "\u001b[K     |████████████████████████████████| 456 kB 25.8 MB/s \n",
            "\u001b[?25hRequirement already satisfied: Flask>=0.8 in /usr/local/lib/python3.7/dist-packages (from flask-bootstrap) (1.1.4)\n",
            "Collecting dominate\n",
            "  Downloading dominate-2.7.0-py2.py3-none-any.whl (29 kB)\n",
            "Collecting visitor\n",
            "  Downloading visitor-0.1.3.tar.gz (3.3 kB)\n",
            "Requirement already satisfied: Jinja2<3.0,>=2.10.1 in /usr/local/lib/python3.7/dist-packages (from Flask>=0.8->flask-bootstrap) (2.11.3)\n",
            "Requirement already satisfied: Werkzeug<2.0,>=0.15 in /usr/local/lib/python3.7/dist-packages (from Flask>=0.8->flask-bootstrap) (1.0.1)\n",
            "Requirement already satisfied: click<8.0,>=5.1 in /usr/local/lib/python3.7/dist-packages (from Flask>=0.8->flask-bootstrap) (7.1.2)\n",
            "Requirement already satisfied: itsdangerous<2.0,>=0.24 in /usr/local/lib/python3.7/dist-packages (from Flask>=0.8->flask-bootstrap) (1.1.0)\n",
            "Requirement already satisfied: MarkupSafe>=0.23 in /usr/local/lib/python3.7/dist-packages (from Jinja2<3.0,>=2.10.1->Flask>=0.8->flask-bootstrap) (2.0.1)\n",
            "Building wheels for collected packages: flask-bootstrap, visitor\n",
            "  Building wheel for flask-bootstrap (setup.py) ... \u001b[?25l\u001b[?25hdone\n",
            "  Created wheel for flask-bootstrap: filename=Flask_Bootstrap-3.3.7.1-py3-none-any.whl size=460123 sha256=93ca299701e91add42ac1bc2e5ef99a1059d479acbb5eb7c33b55f37f9b676e9\n",
            "  Stored in directory: /root/.cache/pip/wheels/67/a2/d6/50d039c9b59b4caca6d7b53839c8100354a52ab7553d2456eb\n",
            "  Building wheel for visitor (setup.py) ... \u001b[?25l\u001b[?25hdone\n",
            "  Created wheel for visitor: filename=visitor-0.1.3-py3-none-any.whl size=3943 sha256=09c4f624c67de153c67a9faa8b3aa964d87858b31627b207eeb63279f5403e69\n",
            "  Stored in directory: /root/.cache/pip/wheels/64/34/11/053f47218984c9a31a00f911ed98dda036b867481dcc527a12\n",
            "Successfully built flask-bootstrap visitor\n",
            "Installing collected packages: visitor, dominate, flask-bootstrap\n",
            "Successfully installed dominate-2.7.0 flask-bootstrap-3.3.7.1 visitor-0.1.3\n",
            "Looking in indexes: https://pypi.org/simple, https://us-python.pkg.dev/colab-wheels/public/simple/\n",
            "Collecting pyngrok==4.1.1\n",
            "  Downloading pyngrok-4.1.1.tar.gz (18 kB)\n",
            "Requirement already satisfied: future in /usr/local/lib/python3.7/dist-packages (from pyngrok==4.1.1) (0.16.0)\n",
            "Requirement already satisfied: PyYAML in /usr/local/lib/python3.7/dist-packages (from pyngrok==4.1.1) (6.0)\n",
            "Building wheels for collected packages: pyngrok\n",
            "  Building wheel for pyngrok (setup.py) ... \u001b[?25l\u001b[?25hdone\n",
            "  Created wheel for pyngrok: filename=pyngrok-4.1.1-py3-none-any.whl size=15984 sha256=82e557e09c79cbd6425b46b3a020d0d2f32b8106f84f2419a671320cf9dc3d3e\n",
            "  Stored in directory: /root/.cache/pip/wheels/b1/d9/12/045a042fee3127dc40ba6f5df2798aa2df38c414bf533ca765\n",
            "Successfully built pyngrok\n",
            "Installing collected packages: pyngrok\n",
            "Successfully installed pyngrok-4.1.1\n",
            "Authtoken saved to configuration file: /root/.ngrok2/ngrok.yml\n",
            "Looking in indexes: https://pypi.org/simple, https://us-python.pkg.dev/colab-wheels/public/simple/\n",
            "Collecting google-search-results\n",
            "  Downloading google_search_results-2.4.1.tar.gz (11 kB)\n",
            "Requirement already satisfied: requests in /usr/local/lib/python3.7/dist-packages (from google-search-results) (2.23.0)\n",
            "Requirement already satisfied: certifi>=2017.4.17 in /usr/local/lib/python3.7/dist-packages (from requests->google-search-results) (2022.9.24)\n",
            "Requirement already satisfied: idna<3,>=2.5 in /usr/local/lib/python3.7/dist-packages (from requests->google-search-results) (2.10)\n",
            "Requirement already satisfied: urllib3!=1.25.0,!=1.25.1,<1.26,>=1.21.1 in /usr/local/lib/python3.7/dist-packages (from requests->google-search-results) (1.24.3)\n",
            "Requirement already satisfied: chardet<4,>=3.0.2 in /usr/local/lib/python3.7/dist-packages (from requests->google-search-results) (3.0.4)\n",
            "Building wheels for collected packages: google-search-results\n",
            "  Building wheel for google-search-results (setup.py) ... \u001b[?25l\u001b[?25hdone\n",
            "  Created wheel for google-search-results: filename=google_search_results-2.4.1-py3-none-any.whl size=25789 sha256=24645c60f71ef898cc4ff4622d222d465006c45c7dc50385f4529760aaa6736f\n",
            "  Stored in directory: /root/.cache/pip/wheels/82/a3/c5/364155118f298722dff2f79ae4dd7c91e92b433ad36d6f7e0e\n",
            "Successfully built google-search-results\n",
            "Installing collected packages: google-search-results\n",
            "Successfully installed google-search-results-2.4.1\n"
          ]
        }
      ],
      "source": [
        "!pip install ibm_db==2.0.8a\n",
        "!pip install flask-ngrok\n",
        "!pip install flask-bootstrap\n",
        "!pip install pyngrok==4.1.1\n",
        "!ngrok authtoken '1tShcLWOqT6sVMKWl6qo37PDosF_5kP7mo4kKjocvFq6k8fWp'\n",
        "!pip install google-search-results"
      ]
    },
    {
      "cell_type": "code",
      "execution_count": null,
      "metadata": {
        "id": "AF6iHenllAZO"
      },
      "outputs": [],
      "source": [
        "import ibm_db\n",
        "conn = ibm_db.connect(\"DATABASE=bludb;HOSTNAME=9938aec0-8105-433e-8bf9-0fbb7e483086.c1ogj3sd0tgtu0lqde00.databases.appdomain.cloud;PORT=32459;SECURITY=SSL;PROTOCOL=TCPIP;UID=tmq90769;PWD=Iff2xEpAjAPd0hD0\",'','')"
      ]
    },
    {
      "cell_type": "code",
      "execution_count": 16,
      "metadata": {
        "colab": {
          "base_uri": "https://localhost:8080/"
        },
        "id": "bLPZHqQ8nV8O",
        "outputId": "db243269-04b3-4a22-95cc-4506f73f17bf"
      },
      "outputs": [
        {
          "output_type": "stream",
          "name": "stdout",
          "text": [
            " * Serving Flask app \"__main__\" (lazy loading)\n",
            " * Environment: production\n",
            "\u001b[31m   WARNING: This is a development server. Do not use it in a production deployment.\u001b[0m\n",
            "\u001b[2m   Use a production WSGI server instead.\u001b[0m\n",
            " * Debug mode: off\n"
          ]
        },
        {
          "output_type": "stream",
          "name": "stderr",
          "text": [
            "INFO:werkzeug: * Running on http://127.0.0.1:5000/ (Press CTRL+C to quit)\n"
          ]
        },
        {
          "output_type": "stream",
          "name": "stdout",
          "text": [
            " * Running on http://6ef0-34-86-193-171.ngrok.io\n",
            " * Traffic stats available on http://127.0.0.1:4040\n"
          ]
        },
        {
          "output_type": "stream",
          "name": "stderr",
          "text": [
            "INFO:werkzeug:127.0.0.1 - - [19/Nov/2022 05:45:35] \"\u001b[37mGET / HTTP/1.1\u001b[0m\" 200 -\n",
            "INFO:werkzeug:127.0.0.1 - - [19/Nov/2022 05:45:36] \"\u001b[33mGET /favicon.ico HTTP/1.1\u001b[0m\" 404 -\n",
            "INFO:werkzeug:127.0.0.1 - - [19/Nov/2022 05:45:46] \"\u001b[37mGET /signup HTTP/1.1\u001b[0m\" 200 -\n",
            "INFO:werkzeug:127.0.0.1 - - [19/Nov/2022 05:45:46] \"\u001b[33mGET /favicon.ico HTTP/1.1\u001b[0m\" 404 -\n",
            "INFO:werkzeug:127.0.0.1 - - [19/Nov/2022 05:46:11] \"\u001b[37mGET /login HTTP/1.1\u001b[0m\" 200 -\n",
            "INFO:werkzeug:127.0.0.1 - - [19/Nov/2022 05:46:30] \"\u001b[37mGET / HTTP/1.1\u001b[0m\" 200 -\n",
            "INFO:werkzeug:127.0.0.1 - - [19/Nov/2022 05:47:13] \"\u001b[37mGET /adduser HTTP/1.1\u001b[0m\" 200 -\n",
            "INFO:werkzeug:127.0.0.1 - - [19/Nov/2022 05:47:29] \"\u001b[37mGET /user_list HTTP/1.1\u001b[0m\" 200 -\n",
            "INFO:werkzeug:127.0.0.1 - - [19/Nov/2022 05:47:50] \"\u001b[37mGET /apply HTTP/1.1\u001b[0m\" 200 -\n",
            "INFO:werkzeug:127.0.0.1 - - [19/Nov/2022 05:48:23] \"\u001b[37mPOST /apply_jobs HTTP/1.1\u001b[0m\" 200 -\n",
            "INFO:werkzeug:127.0.0.1 - - [19/Nov/2022 05:48:34] \"\u001b[37mGET /candidate_list HTTP/1.1\u001b[0m\" 200 -\n",
            "INFO:werkzeug:127.0.0.1 - - [19/Nov/2022 05:49:04] \"\u001b[37mGET /search HTTP/1.1\u001b[0m\" 200 -\n"
          ]
        },
        {
          "output_type": "stream",
          "name": "stdout",
          "text": [
            "https://serpapi.com/search\n"
          ]
        },
        {
          "output_type": "stream",
          "name": "stderr",
          "text": [
            "INFO:werkzeug:127.0.0.1 - - [19/Nov/2022 05:49:13] \"\u001b[37mPOST /api HTTP/1.1\u001b[0m\" 200 -\n",
            "INFO:werkzeug:127.0.0.1 - - [19/Nov/2022 05:49:28] \"\u001b[37mPOST /api HTTP/1.1\u001b[0m\" 200 -\n"
          ]
        },
        {
          "output_type": "stream",
          "name": "stdout",
          "text": [
            "https://serpapi.com/search\n",
            "https://serpapi.com/search\n"
          ]
        },
        {
          "output_type": "stream",
          "name": "stderr",
          "text": [
            "INFO:werkzeug:127.0.0.1 - - [19/Nov/2022 05:49:40] \"\u001b[37mPOST /api HTTP/1.1\u001b[0m\" 200 -\n",
            "INFO:werkzeug:127.0.0.1 - - [19/Nov/2022 05:49:50] \"\u001b[37mGET / HTTP/1.1\u001b[0m\" 200 -\n"
          ]
        }
      ],
      "source": [
        "from flask import Flask,render_template,jsonify,json,request\n",
        "from flask_ngrok import run_with_ngrok\n",
        "from googlesearch import search\n",
        "from serpapi import GoogleSearch\n",
        "app = Flask(__name__)\n",
        "run_with_ngrok(app)\n",
        "\n",
        "@app.route(\"/\")\n",
        "def home():\n",
        "\treturn render_template('chatbot.html')\n",
        " \n",
        "@app.route(\"/adduser\")\n",
        "def hom():\n",
        "\treturn render_template('adduser.html') \n",
        "@app.route(\"/add_user\",methods = ['POST','GET'])\n",
        "def adduser():\n",
        "  name=request.form['name']\n",
        "  age=request.form['age']\n",
        "  skills=request.form['skills']\n",
        "  q=request.form['q']\n",
        "  query = \"INSERT into users values(?,?,?,?)\"\n",
        "  stmt = ibm_db.prepare(conn, query)\n",
        "  ibm_db.bind_param(stmt, 1, name)\n",
        "  ibm_db.bind_param(stmt, 2, age)\n",
        "  ibm_db.bind_param(stmt, 3, skills)\n",
        "  ibm_db.bind_param(stmt, 4, q)\n",
        "  ibm_db.execute(stmt)\n",
        "  return \"Success\"\n",
        "@app.route(\"/candidate_list\")\n",
        "def blue():\n",
        "  id=[]\n",
        "  name=[]\n",
        "  skill=[]\n",
        "  experience=[]\n",
        "  gender=[]\n",
        "  email=[]\n",
        "  phno=[]\n",
        "  address=[]\n",
        "  salary=[]\n",
        "\n",
        "  query = \"SELECT * FROM candidate\"\n",
        "  stmt = ibm_db.prepare(conn, query)\n",
        "  ibm_db.execute(stmt)\n",
        "  dictionary = ibm_db.fetch_assoc(stmt)\n",
        "  while dictionary!= False:\n",
        "    name.append(dictionary['NAME'])\n",
        "    skill.append(dictionary['SKILLS'])\n",
        "    id.append(dictionary['ID'])\n",
        "    experience.append(dictionary['EXPERIENCE'])\n",
        "    gender.append(dictionary['GENDER'])\n",
        "    email.append(dictionary['EMAIL'])\n",
        "    phno.append(dictionary['PHNO'])\n",
        "    salary.append(dictionary['SALARY'])\n",
        "    address.append(dictionary['ADDRESS'])\n",
        "\n",
        "    dictionary = ibm_db.fetch_assoc(stmt)\n",
        "  return render_template('candidate.html',names=name,skills=skill,id=id,gender=gender,\n",
        "                         email=email,address=address,salary=salary,experience=experience,phno=phno)  \n",
        "@app.route(\"/user_list\")\n",
        "def red():\n",
        "  name=[]\n",
        "  skills=[]\n",
        "\n",
        "  query = \"SELECT * FROM users\"\n",
        "  stmt = ibm_db.prepare(conn, query)\n",
        "  ibm_db.execute(stmt)\n",
        "  dictionary = ibm_db.fetch_assoc(stmt)\n",
        "  while dictionary!= False:\n",
        "    name.append(dictionary['NAME'])\n",
        "    skills.append(dictionary['SKILLS'])\n",
        "    dictionary = ibm_db.fetch_assoc(stmt)\n",
        "  return render_template('job_list.html',names=name,skills=skills) \n",
        "@app.route(\"/login\")\n",
        "def login():\n",
        "  return render_template('login.html') \n",
        "@app.route(\"/signup\")\n",
        "def reg():\n",
        "  return render_template('registration.html')   \n",
        "@app.route(\"/apply\")\n",
        "def html():\n",
        "  return render_template('applyjobs.html')  \n",
        "@app.route(\"/search\")\n",
        "def search():\n",
        "  return render_template('jobsearch.html')  \n",
        "@app.route(\"/assistant\")\n",
        "def assi():\n",
        "  return render_template('chatbot.html')  \n",
        "@app.route(\"/apply_jobs\",methods = ['POST','GET'])\n",
        "def server():\n",
        "    id = request.form['id']\n",
        "    name = request.form['name']\n",
        "    skills = request.form['skills']\n",
        "    exp = request.form['exp']\n",
        "    gender = request.form['gender']\n",
        "    mail = request.form['email']\n",
        "    phno = request.form['phno']\n",
        "    address = request.form['address']\n",
        "    salary = request.form['salary']\n",
        "    query = \"INSERT into candidate values(?,?,?,?,?,?,?,?,?)\"\n",
        "    stmt = ibm_db.prepare(conn, query)\n",
        "    ibm_db.bind_param(stmt, 1, id)\n",
        "    ibm_db.bind_param(stmt, 2, name)\n",
        "    ibm_db.bind_param(stmt, 3, skills)\n",
        "    ibm_db.bind_param(stmt, 4, exp)\n",
        "    ibm_db.bind_param(stmt, 5, gender)\n",
        "    ibm_db.bind_param(stmt, 6, mail)\n",
        "    ibm_db.bind_param(stmt, 7, phno)\n",
        "    ibm_db.bind_param(stmt, 8, address)\n",
        "    ibm_db.bind_param(stmt, 9, salary)\n",
        "    ibm_db.execute(stmt)\n",
        "    return \"success\";    \n",
        "\n",
        "@app.route(\"/api\",methods = ['POST','GET'])\n",
        "def api():\n",
        "  a=request.form['search']\n",
        "  search = GoogleSearch({  \"engine\": \"google_jobs\",\"q\": a,  \"api_key\": \"2d444c5f42ee2e27cad08df5c61a8d706cecd33179d1db4fd1dbfe5a358c541a\"})\n",
        "  result = search.get_json()\n",
        "  r=json.dumps(result)\n",
        "  r=json.loads(r)\n",
        "  return render_template('api.html',title1=r[\"jobs_results\"][0][\"title\"],company1=r[\"jobs_results\"][0][\"company_name\"],\n",
        "                        description1=r[\"jobs_results\"][0][\"description\"],location1=r[\"jobs_results\"][0][\"location\"],\n",
        "                        title2=r[\"jobs_results\"][0][\"title\"],company2=r[\"jobs_results\"][0][\"company_name\"],\n",
        "                        description2=r[\"jobs_results\"][0][\"description\"],location2=r[\"jobs_results\"][0][\"location\"],\n",
        "                         title3=r[\"jobs_results\"][0][\"title\"],company3=r[\"jobs_results\"][0][\"company_name\"],\n",
        "                        description3=r[\"jobs_results\"][0][\"description\"],location3=r[\"jobs_results\"][0][\"location\"],\n",
        "                         title4=r[\"jobs_results\"][0][\"title\"],company4=r[\"jobs_results\"][0][\"company_name\"],\n",
        "                        description4=r[\"jobs_results\"][0][\"description\"],location4=r[\"jobs_results\"][0][\"location\"]\n",
        "                         ,\n",
        "                         title5=r[\"jobs_results\"][0][\"title\"],company5=r[\"jobs_results\"][0][\"company_name\"],\n",
        "                        description5=r[\"jobs_results\"][0][\"description\"],location5=r[\"jobs_results\"][0][\"location\"]); \n",
        "\n",
        "app.run()\n"
      ]
    }
  ],
  "metadata": {
    "colab": {
      "provenance": []
    },
    "kernelspec": {
      "display_name": "Python 3",
      "name": "python3"
    },
    "language_info": {
      "name": "python"
    }
  },
  "nbformat": 4,
  "nbformat_minor": 0
}